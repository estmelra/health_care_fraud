{
 "cells": [
  {
   "cell_type": "code",
   "execution_count": 4,
   "metadata": {},
   "outputs": [],
   "source": [
    "import pandas as pd\n",
    "import numpy as np"
   ]
  },
  {
   "cell_type": "markdown",
   "metadata": {},
   "source": [
    "# Importing data"
   ]
  },
  {
   "cell_type": "code",
   "execution_count": 2,
   "metadata": {},
   "outputs": [],
   "source": [
    "train_in_df = pd.read_csv('data/Train_Inpatientdata-1542865627584.csv')\n",
    "train_out_df = pd.read_csv('data/Train_Outpatientdata-1542865627584.csv')\n",
    "train_df = pd.read_csv('data/Train-1542865627584.csv')"
   ]
  },
  {
   "cell_type": "code",
   "execution_count": 3,
   "metadata": {},
   "outputs": [
    {
     "name": "stdout",
     "output_type": "stream",
     "text": [
      "Train_Inpatientdata shape: (40474, 30)\n",
      "Train_Outpatientdata shape: (517737, 27)\n",
      "Train shape: (5410, 2)\n"
     ]
    }
   ],
   "source": [
    "print(f'Train_Inpatientdata shape: {train_in_df.shape}')\n",
    "print(f'Train_Outpatientdata shape: {train_out_df.shape}')\n",
    "print(f'Train shape: {train_df.shape}')"
   ]
  },
  {
   "cell_type": "code",
   "execution_count": 13,
   "metadata": {},
   "outputs": [
    {
     "data": {
      "text/plain": [
       "array(['Provider'], dtype=object)"
      ]
     },
     "execution_count": 13,
     "metadata": {},
     "output_type": "execute_result"
    }
   ],
   "source": [
    "# Common columns among all dfs\n",
    "np.intersect1d(train_df.columns, np.intersect1d(train_in_df.columns, train_out_df.columns))\n"
   ]
  },
  {
   "cell_type": "code",
   "execution_count": 14,
   "metadata": {},
   "outputs": [
    {
     "data": {
      "text/plain": [
       "array(['AttendingPhysician', 'BeneID', 'ClaimEndDt', 'ClaimID',\n",
       "       'ClaimStartDt', 'ClmAdmitDiagnosisCode', 'ClmDiagnosisCode_1',\n",
       "       'ClmDiagnosisCode_10', 'ClmDiagnosisCode_2', 'ClmDiagnosisCode_3',\n",
       "       'ClmDiagnosisCode_4', 'ClmDiagnosisCode_5', 'ClmDiagnosisCode_6',\n",
       "       'ClmDiagnosisCode_7', 'ClmDiagnosisCode_8', 'ClmDiagnosisCode_9',\n",
       "       'ClmProcedureCode_1', 'ClmProcedureCode_2', 'ClmProcedureCode_3',\n",
       "       'ClmProcedureCode_4', 'ClmProcedureCode_5', 'ClmProcedureCode_6',\n",
       "       'DeductibleAmtPaid', 'InscClaimAmtReimbursed',\n",
       "       'OperatingPhysician', 'OtherPhysician', 'Provider'], dtype=object)"
      ]
     },
     "execution_count": 14,
     "metadata": {},
     "output_type": "execute_result"
    }
   ],
   "source": [
    "# Common columns among train_in_df and train_out_df\n",
    "np.intersect1d(train_in_df.columns, train_out_df.columns)"
   ]
  },
  {
   "cell_type": "code",
   "execution_count": 15,
   "metadata": {},
   "outputs": [
    {
     "data": {
      "text/plain": [
       "['PotentialFraud']"
      ]
     },
     "execution_count": 15,
     "metadata": {},
     "output_type": "execute_result"
    }
   ],
   "source": [
    "# Columns only in train_df\n",
    "[l for l in train_df.columns if l not in train_in_df.columns and l not in train_out_df.columns]"
   ]
  },
  {
   "cell_type": "code",
   "execution_count": 16,
   "metadata": {},
   "outputs": [
    {
     "data": {
      "text/plain": [
       "['AdmissionDt', 'DischargeDt', 'DiagnosisGroupCode']"
      ]
     },
     "execution_count": 16,
     "metadata": {},
     "output_type": "execute_result"
    }
   ],
   "source": [
    "# Columns only in train_in_df\n",
    "[l for l in train_in_df.columns if l not in train_df.columns and l not in train_out_df.columns]"
   ]
  },
  {
   "cell_type": "code",
   "execution_count": 17,
   "metadata": {},
   "outputs": [
    {
     "data": {
      "text/plain": [
       "[]"
      ]
     },
     "execution_count": 17,
     "metadata": {},
     "output_type": "execute_result"
    }
   ],
   "source": [
    "# Columns only in train_out_df\n",
    "[l for l in train_out_df.columns if l not in train_in_df.columns and l not in train_df.columns]"
   ]
  },
  {
   "cell_type": "markdown",
   "metadata": {},
   "source": [
    "traind_df is the table containing the target variable but it only has 5410 rows. \n",
    "Do we only have 5410 to work or are these Providers duplicated among train_in_df and train_out_df"
   ]
  },
  {
   "cell_type": "code",
   "execution_count": 27,
   "metadata": {},
   "outputs": [
    {
     "name": "stdout",
     "output_type": "stream",
     "text": [
      "Unique providers in train_in_df: 2092\n",
      "Unique providers in train_out_df: 5012\n",
      "Unique providers in train_df: 5410\n"
     ]
    }
   ],
   "source": [
    "print(f'Unique providers in train_in_df: {len(train_in_df.Provider.unique())}')\n",
    "print(f'Unique providers in train_out_df: {len(train_out_df.Provider.unique())}')\n",
    "print(f'Unique providers in train_df: {len(train_df.Provider.unique())}')\n",
    "\n"
   ]
  },
  {
   "cell_type": "markdown",
   "metadata": {},
   "source": [
    "It looks that Providers are duplicated in theese data frames. It looks that we will use it only as a merge column. \n",
    "Does it make sense that a provider will allways be fraudulent??? in all 'transacations'?? \n",
    "I think that the idea is that if one provider has commited fraud he will be potentially fraudulent for ever and that is what we have to predict. So the goal of our model will be to determine potential fraud and not fraud directly. It still makes sense as the research on fraud time can be reduced a lot"
   ]
  },
  {
   "cell_type": "code",
   "execution_count": null,
   "metadata": {},
   "outputs": [],
   "source": []
  }
 ],
 "metadata": {
  "kernelspec": {
   "display_name": "Python 3.10.6 ('venv': venv)",
   "language": "python",
   "name": "python3"
  },
  "language_info": {
   "codemirror_mode": {
    "name": "ipython",
    "version": 3
   },
   "file_extension": ".py",
   "mimetype": "text/x-python",
   "name": "python",
   "nbconvert_exporter": "python",
   "pygments_lexer": "ipython3",
   "version": "3.10.6"
  },
  "orig_nbformat": 4,
  "vscode": {
   "interpreter": {
    "hash": "cd822860f215b274c5aba57c9408f39657ce6d6615124ef245d77c00f0524f10"
   }
  }
 },
 "nbformat": 4,
 "nbformat_minor": 2
}
